{
 "cells": [
  {
   "cell_type": "code",
   "execution_count": 5,
   "id": "b3d9c479",
   "metadata": {},
   "outputs": [],
   "source": [
    "import pandas as pd\n",
    "from sklearn.neighbors import KNeighborsClassifier\n",
    "from sklearn.svm import SVC\n",
    "from sklearn.tree import DecisionTreeClassifier\n",
    "from sklearn.neural_network import MLPClassifier\n",
    "from sklearn.naive_bayes import GaussianNB"
   ]
  },
  {
   "cell_type": "markdown",
   "id": "dd8a8709",
   "metadata": {},
   "source": [
    "names"
   ]
  },
  {
   "cell_type": "code",
   "execution_count": 11,
   "id": "a2861114",
   "metadata": {},
   "outputs": [],
   "source": [
    "names=['kneig','linear svm','tree','MLP','gaussian',]\n",
    "classifier=[KNeighborsClassifier(3),SVC(kernel='linear',C=0.025),DecisionTreeClassifier(max_depth=5),MLPClassifier(alpha=1,max_iter=1000),GaussianNB(),]"
   ]
  },
  {
   "cell_type": "code",
   "execution_count": 12,
   "id": "427395f1",
   "metadata": {},
   "outputs": [],
   "source": [
    "df=pd.read_csv('iris.csv')"
   ]
  },
  {
   "cell_type": "code",
   "execution_count": 13,
   "id": "692f96da",
   "metadata": {},
   "outputs": [],
   "source": [
    "x=df.iloc[:,:-1]\n",
    "y=df.iloc[:,-1]"
   ]
  },
  {
   "cell_type": "code",
   "execution_count": 15,
   "id": "84b4e2c8",
   "metadata": {},
   "outputs": [],
   "source": [
    "from sklearn.preprocessing import LabelEncoder\n",
    "y=LabelEncoder().fit_transform(y)\n",
    "y=pd.DataFrame(y)"
   ]
  },
  {
   "cell_type": "code",
   "execution_count": 16,
   "id": "5980fc21",
   "metadata": {},
   "outputs": [],
   "source": [
    "from sklearn.model_selection import train_test_split\n",
    "x_train,x_test,y_train,y_test=train_test_split(x,y,test_size=0.3,random_state=42)"
   ]
  },
  {
   "cell_type": "code",
   "execution_count": 18,
   "id": "8003d533",
   "metadata": {},
   "outputs": [
    {
     "name": "stdout",
     "output_type": "stream",
     "text": [
      "classi: kneig sc 1.0\n",
      "classi: linear svm sc 1.0\n",
      "classi: tree sc 1.0\n",
      "classi: MLP sc 0.4444444444444444\n",
      "classi: gaussian sc 1.0\n"
     ]
    }
   ],
   "source": [
    "for name,clf in zip(names,classifier):\n",
    "    clf.fit(x_train,y_train.values.ravel())\n",
    "    score=clf.score(x_test,y_test)\n",
    "    print('classi:',name,'sc',score)"
   ]
  },
  {
   "cell_type": "code",
   "execution_count": null,
   "id": "a47636bd",
   "metadata": {},
   "outputs": [],
   "source": []
  }
 ],
 "metadata": {
  "kernelspec": {
   "display_name": "Python 3 (ipykernel)",
   "language": "python",
   "name": "python3"
  },
  "language_info": {
   "codemirror_mode": {
    "name": "ipython",
    "version": 3
   },
   "file_extension": ".py",
   "mimetype": "text/x-python",
   "name": "python",
   "nbconvert_exporter": "python",
   "pygments_lexer": "ipython3",
   "version": "3.11.4"
  }
 },
 "nbformat": 4,
 "nbformat_minor": 5
}
